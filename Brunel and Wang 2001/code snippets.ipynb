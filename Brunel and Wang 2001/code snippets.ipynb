{
 "cells": [
  {
   "cell_type": "code",
   "execution_count": 93,
   "metadata": {},
   "outputs": [
    {
     "name": "stdout",
     "output_type": "stream",
     "text": [
      "Namespace(fraction=0.1, neurons=50, populations=5)\n",
      "ERROR      Brian 2 encountered an unexpected error. If you think this is bug in Brian 2, please report this issue either to the mailing list at <http://groups.google.com/group/brian-development/>, or to the issue tracker at <https://github.com/brian-team/brian2/issues>. Please include this file with debug information in your report: /tmp/brian_debug_y492zep1.log  Additionally, you can also include a copy of the script that was run, available at: /tmp/brian_script_vgcl12cn.py Thanks! [brian2]\n",
      "Traceback (most recent call last):\n",
      "  File \"Brunel_Wang_2001.py\", line 23, in <module>\n",
      "    print(args.N)\n",
      "AttributeError: 'Namespace' object has no attribute 'N'\n"
     ]
    }
   ],
   "source": [
    "!python Brunel_Wang_2001.py"
   ]
  },
  {
   "cell_type": "code",
   "execution_count": 94,
   "metadata": {},
   "outputs": [],
   "source": [
    "import numpy as np\n",
    "\n",
    "def get_lognormal_weights(target_mean, num_weights, normal_std=0.0):\n",
    "    input_mean = np.log(target_mean) - 0.5*normal_std**2\n",
    "    return np.random.lognormal(\n",
    "        mean=input_mean, sigma=normal_std, size=num_weights\n",
    "    )"
   ]
  },
  {
   "cell_type": "code",
   "execution_count": 164,
   "metadata": {},
   "outputs": [],
   "source": [
    "import brian2 as b2"
   ]
  },
  {
   "cell_type": "code",
   "execution_count": 204,
   "metadata": {},
   "outputs": [
    {
     "data": {
      "text/plain": [
       "\u001b[0;31mSignature:\u001b[0m \u001b[0mparser\u001b[0m\u001b[0;34m.\u001b[0m\u001b[0madd_argument\u001b[0m\u001b[0;34m(\u001b[0m\u001b[0;34m*\u001b[0m\u001b[0margs\u001b[0m\u001b[0;34m,\u001b[0m \u001b[0;34m**\u001b[0m\u001b[0mkwargs\u001b[0m\u001b[0;34m)\u001b[0m\u001b[0;34m\u001b[0m\u001b[0;34m\u001b[0m\u001b[0m\n",
       "\u001b[0;31mDocstring:\u001b[0m\n",
       "add_argument(dest, ..., name=value, ...)\n",
       "add_argument(option_string, option_string, ..., name=value, ...)\n",
       "\u001b[0;31mFile:\u001b[0m      ~/anaconda3/envs/masters/lib/python3.7/argparse.py\n",
       "\u001b[0;31mType:\u001b[0m      method\n"
      ]
     },
     "metadata": {},
     "output_type": "display_data"
    }
   ],
   "source": [
    "import argparse\n",
    "parser = argparse.ArgumentParser()\n",
    "\n",
    "parser.add_argument?"
   ]
  },
  {
   "cell_type": "code",
   "execution_count": 192,
   "metadata": {},
   "outputs": [
    {
     "data": {
      "text/plain": [
       "-0.0105"
      ]
     },
     "execution_count": 192,
     "metadata": {},
     "output_type": "execute_result"
    }
   ],
   "source": [
    "Apre = 0.01\n",
    "taupre = taupost = 20\n",
    "Apost = -Apre*taupre/taupost*1.05\n",
    "Apost"
   ]
  },
  {
   "cell_type": "code",
   "execution_count": 173,
   "metadata": {},
   "outputs": [],
   "source": [
    "import matplotlib.pyplot as plt"
   ]
  },
  {
   "cell_type": "code",
   "execution_count": 187,
   "metadata": {},
   "outputs": [
    {
     "name": "stdout",
     "output_type": "stream",
     "text": [
      "2\n"
     ]
    }
   ],
   "source": [
    "stimtime = int(50 / 25)\n",
    "print(stimtime)\n",
    "stimuli1 = b2.TimedArray(np.r_[np.zeros(2), np.ones(stimtime), np.zeros(100)], dt=25 * b2.ms)"
   ]
  },
  {
   "cell_type": "code",
   "execution_count": 201,
   "metadata": {},
   "outputs": [
    {
     "data": {
      "text/plain": [
       "[<matplotlib.lines.Line2D at 0x7f7ce2a311d0>]"
      ]
     },
     "execution_count": 201,
     "metadata": {},
     "output_type": "execute_result"
    },
    {
     "data": {
      "image/png": "[encoded data removed]",
      "text/plain": [
       "<Figure size 432x288 with 1 Axes>"
      ]
     },
     "metadata": {
      "needs_background": "light"
     },
     "output_type": "display_data"
    }
   ],
   "source": [
    "t = np.linspace(0, 4, 100) * b2.second\n",
    "f = b2.TimedArray(np.r_[np.zeros(40), np.ones(20), np.zeros(100)], dt=25 * b2.ms)\n",
    "\n",
    "plt.plot(t, f(t))"
   ]
  },
  {
   "cell_type": "code",
   "execution_count": 188,
   "metadata": {},
   "outputs": [
    {
     "data": {
      "text/plain": [
       "1.0"
      ]
     },
     "execution_count": 188,
     "metadata": {},
     "output_type": "execute_result"
    }
   ],
   "source": [
    "stimuli1(50*b2.ms)"
   ]
  },
  {
   "cell_type": "code",
   "execution_count": 167,
   "metadata": {},
   "outputs": [
    {
     "data": {
      "text/plain": [
       "1.0"
      ]
     },
     "execution_count": 167,
     "metadata": {},
     "output_type": "execute_result"
    }
   ],
   "source": [
    "f = 0.1\n",
    "w_p = 1.\n",
    "w_m = 1. - f * (w_p - 1.) / (1. - f)\n",
    "\n",
    "w_m"
   ]
  },
  {
   "cell_type": "code",
   "execution_count": 160,
   "metadata": {},
   "outputs": [
    {
     "name": "stdout",
     "output_type": "stream",
     "text": [
      "0.00102\n"
     ]
    }
   ],
   "source": [
    "import matplotlib.pyplot as plt\n",
    "\n",
    "sample_size = 50000\n",
    "std = 0.2\n",
    "\n",
    "f = 0.1\n",
    "w_p = 2.1\n",
    "w_m = 1. - f * (w_p - 1.) / (1. - f)\n",
    "\n",
    "X = get_lognormal_weights(w_p, sample_size, std)\n",
    "Y = get_lognormal_weights(w_m, sample_size, std)\n",
    "\n",
    "print(np.mean((Y > X).astype(float) ))"
   ]
  },
  {
   "cell_type": "code",
   "execution_count": 87,
   "metadata": {},
   "outputs": [
    {
     "name": "stdout",
     "output_type": "stream",
     "text": [
      "Target mean:\t2.1\n",
      "Sample mean:\t2.099246638087388\n",
      "Sample std:\t0.21424321426932105\n"
     ]
    }
   ],
   "source": [
    "import numpy as np\n",
    "\n",
    "normal_mean = 1\n",
    "normal_std = 0.1\n",
    "target_mean = 2.1\n",
    "\n",
    "lognorm_mean = np.exp(normal_mean + 0.5*normal_std**2)\n",
    "# which suggests:\n",
    "input_mean = np.log(target_mean) - 0.5*normal_std**2\n",
    "\n",
    "S = np.random.lognormal(\n",
    "    mean=input_mean, sigma=normal_std, size=10000\n",
    ")\n",
    "\n",
    "print(\n",
    "    f\"Target mean:\\t{target_mean}\",\n",
    "    f\"Sample mean:\\t{S.mean()}\",\n",
    "    f\"Sample std:\\t{S.std()}\",\n",
    "    sep=\"\\n\"\n",
    ")"
   ]
  },
  {
   "cell_type": "code",
   "execution_count": null,
   "metadata": {},
   "outputs": [],
   "source": []
  }
 ],
 "metadata": {
  "kernelspec": {
   "display_name": "Python 3.7.7 64-bit ('masters': conda)",
   "language": "python",
   "name": "python37764bitmasterscondaa59fe58879dc40c4b572da710f41d421"
  },
  "language_info": {
   "codemirror_mode": {
    "name": "ipython",
    "version": 3
   },
   "file_extension": ".py",
   "mimetype": "text/x-python",
   "name": "python",
   "nbconvert_exporter": "python",
   "pygments_lexer": "ipython3",
   "version": "3.7.7"
  }
 },
 "nbformat": 4,
 "nbformat_minor": 4
}
